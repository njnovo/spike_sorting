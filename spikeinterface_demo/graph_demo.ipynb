{
 "cells": [
  {
   "cell_type": "markdown",
   "metadata": {},
   "source": [
    "The Widgets module has the graphing tools, matplotlib has the backend for graphs"
   ]
  },
  {
   "cell_type": "code",
   "execution_count": 1,
   "metadata": {},
   "outputs": [],
   "source": [
    "import matplotlib.pyplot as plt\n",
    "\n",
    "import spikeinterface.full as si\n",
    "import spikeinterface.extractors as se\n",
    "import spikeinterface.widgets as sw\n",
    "from spikeinterface.sortingcomponents.peak_detection import detect_peaks\n"
   ]
  },
  {
   "cell_type": "code",
   "execution_count": 2,
   "metadata": {},
   "outputs": [],
   "source": [
    "sw.set_default_plotter_backend(backend=\"matplotlib\")"
   ]
  },
  {
   "cell_type": "markdown",
   "metadata": {},
   "source": [
    "Get data and make sorting. Make sure to add your path to the data"
   ]
  },
  {
   "cell_type": "code",
   "execution_count": null,
   "metadata": {},
   "outputs": [],
   "source": [
    "FILE_PATH_TO_DATA = \"file path here\"\n",
    "\n",
    "recording = se.BlackrockRecordingExtractor('FILE_PATH_TO_DATA')\n",
    "\n",
    "# Convert to NumpyRecording to ensure proper shape\n",
    "traces = recording.get_traces()\n",
    "recording_2d = NumpyRecording(traces_list=traces.reshape(-1, 1), sampling_frequency=recording.get_sampling_frequency())\n",
    "\n",
    "# Get a chunk of data to calculate noise level\n",
    "chunk_traces = recording_2d.get_traces(start_frame=0, end_frame=30000)  # 1 second of data\n",
    "noise_level = np.median(np.abs(chunk_traces - np.median(chunk_traces))) / 0.6744897501960817  # MAD estimator\n",
    "\n",
    "# Detect peaks with manual noise level using 'by_channel' method with lower threshold\n",
    "peaks = detect_peaks(recording_2d, method='by_channel', noise_levels=np.array([noise_level]), \n",
    "                    detect_threshold=1.5, peak_sign='neg',  # Lower threshold and focus on negative peaks\n",
    "                    exclude_sweep_ms=0.5)  # Increase refractory period\n",
    "\n",
    "# Create sorting using NumpySorting with channel IDs as unit IDs\n",
    "sorting = NumpySorting.from_peaks(peaks, recording_2d.get_sampling_frequency(), unit_ids=recording_2d.channel_ids)\n"
   ]
  },
  {
   "cell_type": "markdown",
   "metadata": {},
   "source": [
    "make a sorting analyzer"
   ]
  },
  {
   "cell_type": "code",
   "execution_count": null,
   "metadata": {},
   "outputs": [],
   "source": [
    "analyzer = si.create_sorting_analyzer(sorting=sorting, recording=recording, format=\"memory\")\n",
    "# core extensions\n",
    "analyzer.compute([\"random_spikes\", \"waveforms\", \"templates\", \"noise_levels\"])\n",
    "\n",
    "# more extensions\n",
    "analyzer.compute([\"spike_amplitudes\", \"unit_locations\", \"spike_locations\", \"template_metrics\"])"
   ]
  },
  {
   "cell_type": "markdown",
   "metadata": {},
   "source": [
    "plot traces"
   ]
  },
  {
   "cell_type": "code",
   "execution_count": null,
   "metadata": {},
   "outputs": [],
   "source": [
    "w_traces = sw.plot_traces(recording)"
   ]
  },
  {
   "cell_type": "code",
   "execution_count": null,
   "metadata": {},
   "outputs": [],
   "source": [
    "raster = sw.plot_rasters(sorting)"
   ]
  },
  {
   "cell_type": "code",
   "execution_count": null,
   "metadata": {},
   "outputs": [],
   "source": [
    "w_el = sw.plot_probe_map(recording)\n"
   ]
  },
  {
   "cell_type": "code",
   "execution_count": null,
   "metadata": {},
   "outputs": [],
   "source": [
    "sw.plot_unit_waveforms(analyzer, unit_ids=sorting.unit_ids[:5], figsize=(16, 4))"
   ]
  },
  {
   "cell_type": "markdown",
   "metadata": {},
   "source": [
    "We can filter the data with a bandpass"
   ]
  },
  {
   "cell_type": "code",
   "execution_count": null,
   "metadata": {},
   "outputs": [],
   "source": [
    "rec_filtred = si.bandpass_filter(recording=recording, freq_min=300.0, freq_max=6000.0, margin_ms=5.0)\n",
    "\n",
    "peaks = detect_peaks(\n",
    "    recording=rec_filtred,\n",
    "    method=\"locally_exclusive\",\n",
    "    peak_sign=\"neg\",\n",
    "    detect_threshold=6,\n",
    "    exclude_sweep_ms=0.3,\n",
    "    radius_um=100,\n",
    "    noise_levels=None,\n",
    "    random_chunk_kwargs={},\n",
    "    chunk_memory=\"10M\",\n",
    "    n_jobs=1,\n",
    "    progress_bar=True,\n",
    ")"
   ]
  },
  {
   "cell_type": "code",
   "execution_count": null,
   "metadata": {},
   "outputs": [],
   "source": [
    "si.plot_peak_activity(recording=rec_filtred, peaks=peaks)\n",
    "\n",
    "plt.show()\n"
   ]
  },
  {
   "cell_type": "code",
   "execution_count": null,
   "metadata": {},
   "outputs": [],
   "source": [
    "anim = si.plot_peak_activity(recording=rec_filtred, peaks=peaks, bin_duration_s=5)\n",
    "\n",
    "\n",
    "plt.show()"
   ]
  }
 ],
 "metadata": {
  "kernelspec": {
   "display_name": "si_env",
   "language": "python",
   "name": "python3"
  },
  "language_info": {
   "codemirror_mode": {
    "name": "ipython",
    "version": 3
   },
   "file_extension": ".py",
   "mimetype": "text/x-python",
   "name": "python",
   "nbconvert_exporter": "python",
   "pygments_lexer": "ipython3",
   "version": "3.11.13"
  }
 },
 "nbformat": 4,
 "nbformat_minor": 2
}
