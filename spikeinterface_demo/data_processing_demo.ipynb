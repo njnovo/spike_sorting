{
 "cells": [
  {
   "cell_type": "markdown",
   "metadata": {
    "vscode": {
     "languageId": "raw"
    }
   },
   "source": [
    "# Simple SpikeInterface Demo\n",
    "\n",
    "This demo shows the basic usage of SpikeInterface for:\n",
    "1. Loading and preprocessing neural data\n",
    "2. Basic spike detection\n",
    "3. Computing essential quality metrics\n",
    "4. Simple visualization\n"
   ]
  },
  {
   "cell_type": "code",
   "execution_count": 57,
   "metadata": {},
   "outputs": [],
   "source": [
    "import numpy as np\n",
    "import matplotlib.pyplot as plt\n",
    "import spikeinterface.core as si\n",
    "import spikeinterface.extractors as se\n",
    "import spikeinterface.widgets as sw\n",
    "import spikeinterface.curation as sc\n",
    "from spikeinterface.sortingcomponents.peak_detection import DetectPeakLocallyExclusive\n",
    "from spikeinterface.qualitymetrics import compute_snrs, compute_firing_rates\n",
    "from probeinterface import Probe\n"
   ]
  },
  {
   "cell_type": "markdown",
   "metadata": {
    "vscode": {
     "languageId": "raw"
    }
   },
   "source": [
    "## Loading and Preprocessing Data\n",
    "\n",
    "First, we'll load a Blackrock dataset and preprocess it for analysis. We'll handle single-channel data properly by reshaping as needed and setting up appropriate probe information.\n"
   ]
  },
  {
   "cell_type": "code",
   "execution_count": 58,
   "metadata": {},
   "outputs": [
    {
     "name": "stdout",
     "output_type": "stream",
     "text": [
      "Loading Blackrock dataset...\n",
      "Channel IDs: ['6']\n",
      "Recording shape: (900210,) (using channel_ids=[6])\n",
      "Reshaped to 2D: (900210, 1)\n",
      "Created NumpyRecording: NumpyRecording: 1 channels - 30.0kHz - 1 segments - 900,210 samples - 30.01s - int16 dtype \n",
      "                1.72 MiB\n",
      "Sampling frequency: 30000.0 Hz\n",
      "Number of channels: 1\n",
      "Duration: 30.007 seconds\n"
     ]
    },
    {
     "name": "stderr",
     "output_type": "stream",
     "text": [
      "/opt/anaconda3/envs/si_env/lib/python3.11/site-packages/neo/rawio/blackrockrawio.py:1037: FutureWarning: Passing (type, 1) or '1type' as a synonym of type is deprecated; in a future version of numpy, it will be understood as (type, (1,)) / '(1,)type'.\n",
      "  npackets = int((filesize - offset) / np.dtype(ptp_dt).itemsize)\n",
      "/opt/anaconda3/envs/si_env/lib/python3.11/site-packages/numpy/core/memmap.py:234: FutureWarning: Passing (type, 1) or '1type' as a synonym of type is deprecated; in a future version of numpy, it will be understood as (type, (1,)) / '(1,)type'.\n",
      "  descr = dtypedescr(dtype)\n"
     ]
    }
   ],
   "source": [
    "print(\"Loading Blackrock dataset...\")\n",
    "# Use SpikeInterface's Blackrock extractor which handles the data properly\n",
    "recording = se.BlackrockRecordingExtractor('/Users/nielsnovotny/Downloads/Hub1-datafile001.ns6')\n",
    "channel_ids = recording.get_channel_ids()\n",
    "print(f\"Channel IDs: {channel_ids}\")\n",
    "traces = recording.get_traces(channel_ids=[channel_ids[0]])\n",
    "print(f\"Recording shape: {traces.shape} (using channel_ids=[{channel_ids[0]}])\")\n",
    "if traces.ndim == 1:\n",
    "    traces = traces.reshape(-1, 1)\n",
    "    print(f\"Reshaped to 2D: {traces.shape}\")\n",
    "# Use NumpyRecording to ensure compatibility with single-channel data\n",
    "from spikeinterface.core import NumpyRecording\n",
    "recording = NumpyRecording(\n",
    "    traces,\n",
    "    sampling_frequency=recording.get_sampling_frequency(),\n",
    "    channel_ids=[str(channel_ids[0])]\n",
    ")\n",
    "# Add gain information for scaling (assuming 1.0 gain for demo purposes)\n",
    "recording.set_property(\"gain_to_uV\", [1.0])\n",
    "recording.set_property(\"offset_to_uV\", [0.0])\n",
    "print(f\"Created NumpyRecording: {recording}\")\n",
    "print(f\"Sampling frequency: {recording.get_sampling_frequency()} Hz\")\n",
    "print(f\"Number of channels: {recording.get_num_channels()}\")\n",
    "print(f\"Duration: {recording.get_total_duration()} seconds\")\n"
   ]
  },
  {
   "cell_type": "markdown",
   "metadata": {
    "vscode": {
     "languageId": "raw"
    }
   },
   "source": [
    "## Setting up the Probe\n",
    "\n",
    "Create and attach a probe object to our recording. For single-channel data, we'll create a simple probe with one contact. This is necessary since our recording doesn't have probe data.\n"
   ]
  },
  {
   "cell_type": "code",
   "execution_count": 59,
   "metadata": {},
   "outputs": [
    {
     "name": "stdout",
     "output_type": "stream",
     "text": [
      "Probe attached: Probe - 1ch - 1shanks\n"
     ]
    }
   ],
   "source": [
    "# Create a probe with 1 shank and 1 channel\n",
    "probe = Probe(ndim=2)\n",
    "probe.set_contacts(\n",
    "    positions=np.array([[0, 0]]),  # Single contact at origin\n",
    "    shapes='circle',\n",
    "    shape_params={'radius': 5},  # 5 micron radius\n",
    "    shank_ids=[0]  # All contacts on shank 0\n",
    ")\n",
    "probe.set_device_channel_indices([0])  # Map channel 0 to contact 0\n",
    "\n",
    "# Attach the probe to the recording\n",
    "recording.set_probe(probe, in_place=True)\n",
    "print(f\"Probe attached: {recording.get_probe()}\")\n"
   ]
  },
  {
   "cell_type": "markdown",
   "metadata": {
    "vscode": {
     "languageId": "raw"
    }
   },
   "source": [
    "## Spike Detection\n",
    "\n",
    "We'll use threshold-based spike detection to identify potential spikes in our recording.\n"
   ]
  },
  {
   "cell_type": "code",
   "execution_count": 60,
   "metadata": {},
   "outputs": [
    {
     "name": "stdout",
     "output_type": "stream",
     "text": [
      "Detected 63316 peaks\n",
      "Created sorting with 1 units\n"
     ]
    }
   ],
   "source": [
    "# Detect spikes using threshold detection\n",
    "# Prepare arguments for detect_peaks\n",
    "traces = recording.get_traces()\n",
    "peak_sign = \"neg\"\n",
    "abs_thresholds = np.array([5])  # threshold in standard deviations, one per channel\n",
    "exclude_sweep_size = int(0.1 * recording.get_sampling_frequency() / 1000)  # 0.1 ms in samples\n",
    "neighbours_mask = np.ones((1, 1), dtype=bool)  # For single channel, allow self-neighbor\n",
    "\n",
    "peaks = DetectPeakLocallyExclusive.detect_peaks(\n",
    "    traces, peak_sign, abs_thresholds, exclude_sweep_size, neighbours_mask\n",
    ")\n",
    "print(f\"Detected {len(peaks[0])} peaks\")\n",
    "\n",
    "# peaks is a tuple: (sample_indices, channel_indices)\n",
    "peaks_struct = np.zeros(\n",
    "    len(peaks[0]),\n",
    "    dtype=[(\"sample_index\", \"int64\"), (\"channel_index\", \"int64\"), (\"segment_index\", \"int64\")]\n",
    ")\n",
    "peaks_struct[\"sample_index\"] = peaks[0]\n",
    "peaks_struct[\"channel_index\"] = peaks[1]\n",
    "peaks_struct[\"segment_index\"] = 0  # All zeros for single segment\n",
    "\n",
    "# Convert peaks to sorting\n",
    "from spikeinterface.core import NumpySorting\n",
    "sorting = NumpySorting.from_peaks(\n",
    "    peaks_struct,\n",
    "    sampling_frequency=recording.get_sampling_frequency(),\n",
    "    unit_ids=[\"unit_0\"]  # Single unit for all peaks\n",
    ")\n",
    "print(f\"Created sorting with {len(sorting.get_unit_ids())} units\")\n"
   ]
  },
  {
   "cell_type": "markdown",
   "metadata": {
    "vscode": {
     "languageId": "raw"
    }
   },
   "source": [
    "## Creating SortingAnalyzer and Computing Extensions\n",
    "\n",
    "The SortingAnalyzer is a powerful object that allows us to compute and store various metrics and features of our sorted data.\n"
   ]
  },
  {
   "cell_type": "code",
   "execution_count": 61,
   "metadata": {},
   "outputs": [
    {
     "name": "stdout",
     "output_type": "stream",
     "text": [
      "\n",
      "Creating SortingAnalyzer and computing metrics...\n"
     ]
    },
    {
     "data": {
      "application/vnd.jupyter.widget-view+json": {
       "model_id": "e3a13f04b8ba429da72143f8217bb84f",
       "version_major": 2,
       "version_minor": 0
      },
      "text/plain": [
       "estimate_sparsity (no parallelization):   0%|          | 0/31 [00:00<?, ?it/s]"
      ]
     },
     "metadata": {},
     "output_type": "display_data"
    },
    {
     "data": {
      "application/vnd.jupyter.widget-view+json": {
       "model_id": "dabd3ca3276c418a84e26605a7a37d58",
       "version_major": 2,
       "version_minor": 0
      },
      "text/plain": [
       "compute_waveforms (workers: 2 processes):   0%|          | 0/31 [00:00<?, ?it/s]"
      ]
     },
     "metadata": {},
     "output_type": "display_data"
    },
    {
     "data": {
      "application/vnd.jupyter.widget-view+json": {
       "model_id": "a36cd795d26c454eaa766dce2d6efef7",
       "version_major": 2,
       "version_minor": 0
      },
      "text/plain": [
       "noise_level (no parallelization):   0%|          | 0/20 [00:00<?, ?it/s]"
      ]
     },
     "metadata": {},
     "output_type": "display_data"
    },
    {
     "data": {
      "application/vnd.jupyter.widget-view+json": {
       "model_id": "a045238703ba497c8dbb5dccebb67b25",
       "version_major": 2,
       "version_minor": 0
      },
      "text/plain": [
       "Fitting PCA:   0%|          | 0/1 [00:00<?, ?it/s]"
      ]
     },
     "metadata": {},
     "output_type": "display_data"
    },
    {
     "data": {
      "application/vnd.jupyter.widget-view+json": {
       "model_id": "8f0c945055b446be9f62e93ce6e278bb",
       "version_major": 2,
       "version_minor": 0
      },
      "text/plain": [
       "Projecting waveforms:   0%|          | 0/1 [00:00<?, ?it/s]"
      ]
     },
     "metadata": {},
     "output_type": "display_data"
    },
    {
     "data": {
      "application/vnd.jupyter.widget-view+json": {
       "model_id": "8412d878215849098f44d031e642f554",
       "version_major": 2,
       "version_minor": 0
      },
      "text/plain": [
       "spike_amplitudes (no parallelization):   0%|          | 0/31 [00:00<?, ?it/s]"
      ]
     },
     "metadata": {},
     "output_type": "display_data"
    },
    {
     "name": "stderr",
     "output_type": "stream",
     "text": [
      "/opt/anaconda3/envs/si_env/lib/python3.11/site-packages/spikeinterface/qualitymetrics/misc_metrics.py:157: UserWarning: Bin duration of 60s is larger than recording duration. Presence ratios are set to NaN.\n",
      "  warnings.warn(\n",
      "/opt/anaconda3/envs/si_env/lib/python3.11/site-packages/numpy/core/_methods.py:206: RuntimeWarning: Degrees of freedom <= 0 for slice\n",
      "  ret = _var(a, axis=axis, dtype=dtype, out=out, ddof=ddof,\n",
      "/opt/anaconda3/envs/si_env/lib/python3.11/site-packages/numpy/core/_methods.py:163: RuntimeWarning: invalid value encountered in divide\n",
      "  arrmean = um.true_divide(arrmean, div, out=arrmean,\n",
      "/opt/anaconda3/envs/si_env/lib/python3.11/site-packages/numpy/core/_methods.py:198: RuntimeWarning: invalid value encountered in divide\n",
      "  ret = ret.dtype.type(ret / rcount)\n"
     ]
    },
    {
     "data": {
      "application/vnd.jupyter.widget-view+json": {
       "model_id": "d1b3dd77bc3341569e3512a67ac9f6e6",
       "version_major": 2,
       "version_minor": 0
      },
      "text/plain": [
       "noise_level (no parallelization):   0%|          | 0/20 [00:00<?, ?it/s]"
      ]
     },
     "metadata": {},
     "output_type": "display_data"
    },
    {
     "data": {
      "application/vnd.jupyter.widget-view+json": {
       "model_id": "5247c4a2c02441b1b4e0f7a46ab250ae",
       "version_major": 2,
       "version_minor": 0
      },
      "text/plain": [
       "calculate pc_metrics:   0%|          | 0/1 [00:00<?, ?it/s]"
      ]
     },
     "metadata": {},
     "output_type": "display_data"
    },
    {
     "name": "stdout",
     "output_type": "stream",
     "text": [
      "Analyzer created with all required metrics computed\n"
     ]
    },
    {
     "name": "stderr",
     "output_type": "stream",
     "text": [
      "/opt/anaconda3/envs/si_env/lib/python3.11/site-packages/scipy/stats/_stats_py.py:10730: RuntimeWarning: invalid value encountered in scalar divide\n",
      "  slope = ssxym / ssxm\n",
      "/opt/anaconda3/envs/si_env/lib/python3.11/site-packages/scipy/stats/_stats_py.py:10744: RuntimeWarning: invalid value encountered in sqrt\n",
      "  t = r * np.sqrt(df / ((1.0 - r + TINY)*(1.0 + r + TINY)))\n",
      "/opt/anaconda3/envs/si_env/lib/python3.11/site-packages/scipy/stats/_stats_py.py:10750: RuntimeWarning: invalid value encountered in scalar divide\n",
      "  slope_stderr = np.sqrt((1 - r**2) * ssym / ssxm / df)\n"
     ]
    }
   ],
   "source": [
    "print(\"\\nCreating SortingAnalyzer and computing metrics...\")\n",
    "analyzer = si.create_sorting_analyzer(\n",
    "    sorting=sorting,\n",
    "    recording=recording,\n",
    "    format=\"memory\"\n",
    ")\n",
    "\n",
    "# Compute metrics in the correct order\n",
    "analyzer.compute(\"random_spikes\", method=\"uniform\", max_spikes_per_unit=600, seed=2205)  # Required for waveforms\n",
    "analyzer.compute(\"waveforms\", ms_before=1.0, ms_after=2.0, n_jobs=2)\n",
    "analyzer.compute(\"templates\", operators=[\"average\"])\n",
    "analyzer.compute(\"noise_levels\")\n",
    "analyzer.compute(\"principal_components\", n_components=3, mode=\"by_channel_global\", whiten=True)\n",
    "analyzer.compute(\"spike_amplitudes\")\n",
    "analyzer.compute(\"quality_metrics\")  # Required for auto curation\n",
    "analyzer.compute(\"template_metrics\")  # Required for auto curation\n",
    "\n",
    "print(f\"Analyzer created with all required metrics computed\")\n"
   ]
  },
  {
   "cell_type": "markdown",
   "metadata": {
    "vscode": {
     "languageId": "raw"
    }
   },
   "source": [
    "## Computing Quality Metrics\n",
    "\n",
    "We'll compute various quality metrics to assess the quality of our sorted units.\n"
   ]
  },
  {
   "cell_type": "code",
   "execution_count": 62,
   "metadata": {},
   "outputs": [
    {
     "name": "stdout",
     "output_type": "stream",
     "text": [
      "\n",
      "Computing basic quality metrics...\n",
      "\n",
      "Quality metrics summary:\n",
      "Firing rate: 2110.04 Hz\n",
      "SNR: 0.88\n"
     ]
    }
   ],
   "source": [
    "print(\"\\nComputing basic quality metrics...\")\n",
    "# Compute basic metrics\n",
    "firing_rates = compute_firing_rates(analyzer)\n",
    "snrs = compute_snrs(analyzer)\n",
    "\n",
    "print(\"\\nQuality metrics summary:\")\n",
    "print(f\"Firing rate: {firing_rates['unit_0']:.2f} Hz\")\n",
    "print(f\"SNR: {snrs['unit_0']:.2f}\")\n"
   ]
  },
  {
   "cell_type": "raw",
   "metadata": {
    "vscode": {
     "languageId": "raw"
    }
   },
   "source": [
    "## Visualizing the Unit Template\n",
    "\n",
    "Let's visualize the average waveform (template) of our detected spikes.\n"
   ]
  },
  {
   "cell_type": "raw",
   "metadata": {
    "vscode": {
     "languageId": "raw"
    }
   },
   "source": [
    "## Simple Automated Curation\n",
    "\n",
    "Since we have a single-channel recording, we'll use a simple automated curation approach based on SNR and firing rate thresholds.\n"
   ]
  },
  {
   "cell_type": "code",
   "execution_count": 63,
   "metadata": {},
   "outputs": [
    {
     "name": "stdout",
     "output_type": "stream",
     "text": [
      "\n",
      "Performing simple automated curation based on quality metrics...\n",
      "\n",
      "Curation results:\n",
      "Total units: 1\n",
      "Good units: 1\n",
      "Good unit IDs: ['unit_0']\n"
     ]
    }
   ],
   "source": [
    "print(\"\\nPerforming simple automated curation based on quality metrics...\")\n",
    "# Get quality metrics\n",
    "metrics = analyzer.get_extension(\"quality_metrics\").get_data()\n",
    "\n",
    "# Simple curation based on SNR and firing rate\n",
    "good_units = []\n",
    "for unit_id in analyzer.unit_ids:\n",
    "    snr = metrics.loc[unit_id, \"snr\"]\n",
    "    firing_rate = metrics.loc[unit_id, \"firing_rate\"]\n",
    "    if snr > 0.8 and firing_rate > 0.1:  # SNR > 0.8 and firing rate > 0.1 Hz\n",
    "        good_units.append(unit_id)\n",
    "\n",
    "print(\"\\nCuration results:\")\n",
    "print(f\"Total units: {len(analyzer.unit_ids)}\")\n",
    "print(f\"Good units: {len(good_units)}\")\n",
    "print(f\"Good unit IDs: {good_units}\")\n"
   ]
  },
  {
   "cell_type": "code",
   "execution_count": 64,
   "metadata": {},
   "outputs": [
    {
     "name": "stderr",
     "output_type": "stream",
     "text": [
      "/opt/anaconda3/envs/si_env/lib/python3.11/site-packages/spikeinterface/widgets/unit_waveforms.py:674: RuntimeWarning: invalid value encountered in divide\n",
      "  gaus = np.exp(-0.5 * (eucl / eucl.min()) ** 2)  # sigma uses the min distance between channels\n"
     ]
    },
    {
     "data": {
      "text/plain": [
       "<Figure size 1000x500 with 0 Axes>"
      ]
     },
     "metadata": {},
     "output_type": "display_data"
    },
    {
     "data": {
      "image/png": "[encoded data removed]",
      "text/plain": [
       "<Figure size 640x480 with 1 Axes>"
      ]
     },
     "metadata": {},
     "output_type": "display_data"
    }
   ],
   "source": [
    "# Plot the unit template\n",
    "plt.figure(figsize=(10, 5))\n",
    "sw.plot_unit_templates(analyzer, unit_ids=[\"unit_0\"])\n",
    "plt.title('Unit Template')\n",
    "plt.show()\n"
   ]
  },
  {
   "cell_type": "markdown",
   "metadata": {
    "vscode": {
     "languageId": "raw"
    }
   },
   "source": [
    "## Visualizing Results\n",
    "\n",
    "Let's visualize some of our results to better understand the quality of our units. We'll create plots showing:\n",
    "1. Quality metrics distributions\n",
    "2. Unit templates for high and low SNR units\n"
   ]
  },
  {
   "cell_type": "code",
   "execution_count": 65,
   "metadata": {},
   "outputs": [
    {
     "data": {
      "image/png": "[encoded data removed]",
      "text/plain": [
       "<Figure size 1500x1000 with 4 Axes>"
      ]
     },
     "metadata": {},
     "output_type": "display_data"
    }
   ],
   "source": [
    "# Plot quality metrics distributions\n",
    "plt.figure(figsize=(15, 10))\n",
    "\n",
    "# Plot firing rates\n",
    "plt.subplot(2, 2, 1)\n",
    "plt.hist(metrics['firing_rate'], bins=20)\n",
    "plt.xlabel('Firing Rate (Hz)')\n",
    "plt.ylabel('Count')\n",
    "plt.title('Firing Rate Distribution')\n",
    "\n",
    "# Plot SNR distribution\n",
    "plt.subplot(2, 2, 2)\n",
    "plt.hist(metrics['snr'], bins=20)\n",
    "plt.xlabel('SNR')\n",
    "plt.ylabel('Count')\n",
    "plt.title('SNR Distribution')\n",
    "\n",
    "# Plot firing range distribution\n",
    "plt.subplot(2, 2, 3)\n",
    "plt.hist(metrics['firing_range'], bins=20)\n",
    "plt.xlabel('Firing Range')\n",
    "plt.ylabel('Count')\n",
    "plt.title('Firing Range Distribution')\n",
    "\n",
    "# Plot isolation distances\n",
    "plt.subplot(2, 2, 4)\n",
    "isolation_distances = metrics['isolation_distance'].dropna()  # Remove NaN values\n",
    "if len(isolation_distances) > 0:\n",
    "    plt.hist(isolation_distances, bins=20)\n",
    "    plt.xlabel('Isolation Distance')\n",
    "    plt.ylabel('Count')\n",
    "    plt.title('Isolation Distance Distribution')\n",
    "else:\n",
    "    plt.text(0.5, 0.5, 'No isolation distance data\\n(requires multi-channel)', \n",
    "            ha='center', va='center', transform=plt.gca().transAxes)\n",
    "    plt.title('Isolation Distance Distribution')\n",
    "\n",
    "plt.tight_layout()\n",
    "plt.show()\n"
   ]
  }
 ],
 "metadata": {
  "kernelspec": {
   "display_name": "si_env",
   "language": "python",
   "name": "python3"
  },
  "language_info": {
   "codemirror_mode": {
    "name": "ipython",
    "version": 3
   },
   "file_extension": ".py",
   "mimetype": "text/x-python",
   "name": "python",
   "nbconvert_exporter": "python",
   "pygments_lexer": "ipython3",
   "version": "3.11.13"
  }
 },
 "nbformat": 4,
 "nbformat_minor": 2
}
